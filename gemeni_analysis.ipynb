{
 "cells": [
  {
   "cell_type": "code",
   "execution_count": 2,
   "metadata": {},
   "outputs": [],
   "source": [
    "import json\n",
    "from typing import List\n",
    "\n",
    "# TODO: Add pathlib, p.glob('**/*') to get all files in a folder\n",
    "import os\n",
    "import subprocess\n",
    "import shutil\n",
    "from pathlib import Path\n",
    "from tqdm.notebook import tqdm\n",
    "from collections import defaultdict\n",
    "from interruptingcow import timeout\n",
    "from concurrent.futures import ThreadPoolExecutor, as_completed\n",
    "\n",
    "\n",
    "tmp_dir = \"tmprepo\"\n",
    "\n",
    "\n",
    "def read_jsonl(file_path) -> List[dict]:\n",
    "    with open(file_path, \"r\") as f:\n",
    "        lines = f.readlines()\n",
    "    return [json.loads(line) for line in lines]\n",
    "\n",
    "\n",
    "def is_github_url(url: str) -> bool:\n",
    "    return \"github.com\" in url\n",
    "\n",
    "\n",
    "def git_clone(url: str, folder: str) -> bool:\n",
    "    if os.path.exists(folder):\n",
    "        return True\n",
    "    res = subprocess.run(\n",
    "        [\"git\", \"clone\", url, folder, \"--quiet\"],\n",
    "        stdout=subprocess.DEVNULL,\n",
    "        stderr=subprocess.DEVNULL,\n",
    "    )\n",
    "    return res.returncode == 0\n",
    "\n",
    "\n",
    "def find_java_files_grep(folder_path, search_string=\"\", exclude_dirs=[]):\n",
    "    command = [\n",
    "        \"grep\",\n",
    "        \"-rlF\",\n",
    "        \"--max-count=1\",\n",
    "        \"--include=*.java\",\n",
    "        search_string,\n",
    "        folder_path,\n",
    "    ]\n",
    "    for dir_name in exclude_dirs:\n",
    "        command.extend([\"--exclude-dir\", dir_name])\n",
    "    result = subprocess.run(command, stdout=subprocess.PIPE, text=True)\n",
    "    return result.stdout.splitlines()\n",
    "\n",
    "\n",
    "def search_string_in_files(folder_path, search_string):\n",
    "    \"\"\"\n",
    "    Recursively searches for a string in all files within a folder and its subfolders.\n",
    "\n",
    "    Args:\n",
    "        folder_path (str): The path to the folder to search in.\n",
    "        search_string (str): The string to search for.\n",
    "\n",
    "    Returns:\n",
    "        list: A list of file paths containing the search string.\n",
    "    \"\"\"\n",
    "    excluded_parts = [\".git\", \"dists\", \"resource\", \"com\", \"org\", \"net\"]\n",
    "    matching_files = []\n",
    "    # for root, _, files in os.walk(folder_path):\n",
    "    #     for file in files:\n",
    "    #         if not file.endswith(\".java\"):\n",
    "    #             continue\n",
    "    #         file_path = os.path.join(root, file)\n",
    "    #         if any(ex in file_path for ex in exclude_parts):\n",
    "    #             continue\n",
    "    #         with open(file_path, 'r', encoding='utf-8', errors='ignore') as f:\n",
    "    #             if search_string in f.read():\n",
    "    #                 matching_files.append(file_path)\n",
    "\n",
    "    files = find_java_files_grep(\n",
    "        folder_path, search_string, exclude_dirs=excluded_parts\n",
    "    )\n",
    "    matching_files = files\n",
    "    # files = filter(lambda e: not any(ex in e for ex in excluded_parts), files)\n",
    "    # for file in files:\n",
    "    #     with open(file, 'r', encoding='utf-8', errors='ignore') as f:\n",
    "    #         if search_string in f.read():\n",
    "    #             matching_files.append(file)\n",
    "    return matching_files\n",
    "\n",
    "\n",
    "def exec(bug: str):\n",
    "    bug_solution_str = bug_solution_str_map[bug]\n",
    "    uris = bug_uri_map[bug]\n",
    "    for uri in uris:\n",
    "        label = uri_tag_map[uri]\n",
    "        tmp_repo_path = os.path.join(tmp_dir, label)\n",
    "        # # Check if repo already exists and is a valid repo\n",
    "        # if not os.path.exists(tmp_repo_path):\n",
    "        #     # Clone repository\n",
    "        #     success = git_clone(uri, tmp_repo_path)\n",
    "        #     if not success:\n",
    "        #         return\n",
    "\n",
    "        # Check for string in tmp_path\n",
    "        if not os.path.exists(tmp_repo_path):\n",
    "            continue\n",
    "\n",
    "        matching_files = search_string_in_files(tmp_repo_path, bug_solution_str)\n",
    "        if not matching_files:\n",
    "            continue\n",
    "        repo_file_matches[bug].append(label)"
   ]
  },
  {
   "cell_type": "code",
   "execution_count": 3,
   "metadata": {},
   "outputs": [
    {
     "data": {
      "application/vnd.jupyter.widget-view+json": {
       "model_id": "2847c0371ae74dd495b320c8465a98bd",
       "version_major": 2,
       "version_minor": 0
      },
      "text/plain": [
       "Generate bug and repo uri mappings:   0%|          | 0/163 [00:00<?, ?it/s]"
      ]
     },
     "metadata": {},
     "output_type": "display_data"
    },
    {
     "data": {
      "application/vnd.jupyter.widget-view+json": {
       "model_id": "57dd8f11b31e44118a2f02c9ccdb2cec",
       "version_major": 2,
       "version_minor": 0
      },
      "text/plain": [
       "Generate bug and repo uri mappings:   0%|          | 0/835 [00:00<?, ?it/s]"
      ]
     },
     "metadata": {},
     "output_type": "display_data"
    },
    {
     "data": {
      "application/vnd.jupyter.widget-view+json": {
       "model_id": "29b8b954733a4d0c8714b3e9dbac92bb",
       "version_major": 2,
       "version_minor": 0
      },
      "text/plain": [
       "Generate bug and repo uri mappings:   0%|          | 0/199 [00:00<?, ?it/s]"
      ]
     },
     "metadata": {},
     "output_type": "display_data"
    }
   ],
   "source": [
    "# Generate mappings between bugs and repositories\n",
    "\n",
    "benchmarks = [\n",
    "    (\"humaneval-java\", \"data/humaneval-java/candidates_HumanEvalJava_sigonly-instruct_google_model_name=gemini-1.5-flash_max_length=4096_temperature=0.05_generation_strategy=sampling_num_return_sequences=10.jsonl\"),\n",
    "    (\"defects4j\", \"data/defects4j/candidates_Defects4J_sigonly-instruct_google_model_name=gemini-1.5-flash_max_length=4096_temperature=0.05_generation_strategy=sampling_num_return_sequences=10.jsonl\"),\n",
    "    (\"gitbug-java\", \"data/gitbug-java/candidates_GitBugJava_sigonly-instruct_google_model_name=gemini-1.5-flash_max_length=4096_temperature=0.05_generation_strategy=sampling_num_return_sequences=10.jsonl\"),\n",
    "]\n",
    "\n",
    "uri_cache = set()\n",
    "uri_tag_map = {}  # repo_uri -> repo_tag\n",
    "bugs_with_sources: List[str] = []  # List of bug ids\n",
    "all_bugs: List[str] = []\n",
    "bug_uri_map = defaultdict(list)  # bug_id -> [repo_uri]\n",
    "bug_solution_str_map = {}  # bug_id -> fixed_bug_str\n",
    "for benchmark_label, path in benchmarks:\n",
    "    data = read_jsonl(path)\n",
    "    for d in tqdm(data, desc=\"Generate bug and repo uri mappings\"):\n",
    "        bug_id = f\"{benchmark_label}-{d['identifier']}\"\n",
    "        all_bugs.append(bug_id)\n",
    "        # Get bug to fix string mapping\n",
    "        fixed_code = d[\"fixed_code\"]\n",
    "        if not fixed_code:\n",
    "            continue\n",
    "        bug_solution_str_map[bug_id] = fixed_code\n",
    "\n",
    "        # Get github urls\n",
    "        generations = d.get(\"generation\", None)\n",
    "        if not generations:\n",
    "            continue\n",
    "        candidates = generations[0][\"candidates\"][0]\n",
    "        # If no matches, skip\n",
    "        if not \"citation_metadata\" in candidates:\n",
    "            continue\n",
    "        sources = candidates[\"citation_metadata\"][\"citation_sources\"]\n",
    "        # Go though sources\n",
    "        for source in sources:\n",
    "            # If source has no uri or is not a github url, skip\n",
    "            if not \"uri\" in source:\n",
    "                continue\n",
    "            uri: str = source[\"uri\"]\n",
    "            if not is_github_url(uri):\n",
    "                continue\n",
    "            if uri in uri_cache:\n",
    "                continue\n",
    "            uri_cache.add(uri)\n",
    "            # Create repo tag\n",
    "            repo_tag = uri.removeprefix(\"https://github.com/\")\n",
    "            repo_tag = repo_tag.removesuffix(\".git\")\n",
    "            repo_tag = repo_tag.replace(\"/\", \"_\")\n",
    "            uri_tag_map[uri] = repo_tag\n",
    "            # Add repo uri match to bug\n",
    "            bug_uri_map[bug_id].append(uri)\n",
    "        \n",
    "        # Add bug to list of bugs with repos to be scanned if there are any repos\n",
    "        if not bug_uri_map[bug_id]:\n",
    "            continue\n",
    "        bugs_with_sources.append(bug_id)\n"
   ]
  },
  {
   "cell_type": "code",
   "execution_count": 30,
   "metadata": {},
   "outputs": [
    {
     "data": {
      "application/vnd.jupyter.widget-view+json": {
       "model_id": "39ba14e3fdb2440baacf1cf99f26de58",
       "version_major": 2,
       "version_minor": 0
      },
      "text/plain": [
       "Download .git repositories:   0%|          | 0/27 [00:00<?, ?it/s]"
      ]
     },
     "metadata": {},
     "output_type": "display_data"
    }
   ],
   "source": [
    "from functools import reduce\n",
    "# Get all tags\n",
    "\n",
    "dirs = set(os.listdir(tmp_dir))\n",
    "uris = list(filter(lambda e: uri_tag_map[e] not in dirs, uri_tag_map.keys()))\n",
    "\n",
    "# Clone repos\n",
    "with ThreadPoolExecutor() as executor:\n",
    "    futures = {executor.submit(git_clone, uri, os.path.join(tmp_dir, uri_tag_map[uri])): uri for uri in uris}\n",
    "    for future in tqdm(as_completed(futures), total=len(uris), desc=\"Download .git repositories\"):\n",
    "        future.result()\n"
   ]
  },
  {
   "cell_type": "code",
   "execution_count": 8,
   "metadata": {},
   "outputs": [],
   "source": [
    "CACHE_FILE = \"bug_repo_matches_cache.json\"\n",
    "NEW_CACHE_FILE = \"bug_repo_matches_cache_2.json\"\n",
    "\n",
    "with open(CACHE_FILE, \"r\") as cache_file:\n",
    "    cached_data = json.load(cache_file)\n",
    "new_cached_data = {\"humaneval-java\": {}, \"defects4j\": {}, \"gitbug-java\": {}}\n",
    "for k, v in cached_data.items():\n",
    "    k: str\n",
    "    v: list\n",
    "    if k.startswith(\"humaneval-java\"):\n",
    "        bug = k.strip(\"humaneval-java-\")\n",
    "        new_cached_data[\"humaneval-java\"][bug] = [{\"tag\": uri_tag_map[uri], \"url\": uri} for uri in bug_uri_map[k]]\n",
    "    if k.startswith(\"defects4j\"):\n",
    "        bug = k.strip(\"defects4j-\")\n",
    "        new_cached_data[\"defects4j\"][bug] = [{\"tag\": uri_tag_map[uri], \"url\": uri} for uri in bug_uri_map[k]]\n",
    "    if k.startswith(\"gitbug-java\"):\n",
    "        bug = k.strip(\"gitbug-java-\")\n",
    "        new_cached_data[\"gitbug-java\"][bug] = [{\"tag\": uri_tag_map[uri], \"url\": uri} for uri in bug_uri_map[k]]\n",
    "with open(NEW_CACHE_FILE, \"w\") as new_cache_file:\n",
    "    new_cache_file.write(json.dumps(new_cached_data))\n",
    "\n",
    "            \n",
    "                "
   ]
  },
  {
   "cell_type": "code",
   "execution_count": 10,
   "metadata": {},
   "outputs": [
    {
     "name": "stdout",
     "output_type": "stream",
     "text": [
      "Read cached results from 120 bugs\n"
     ]
    },
    {
     "data": {
      "application/vnd.jupyter.widget-view+json": {
       "model_id": "6ae11009e5e848f28e3d3e575f70cb9f",
       "version_major": 2,
       "version_minor": 0
      },
      "text/plain": [
       "Search for bug solution instances in repositories:   0%|          | 0/50 [00:00<?, ?it/s]"
      ]
     },
     "metadata": {},
     "output_type": "display_data"
    }
   ],
   "source": [
    "# Execute search on repositories mapped to bugs\n",
    "\n",
    "# Path to cache file\n",
    "CACHE_FILE = \"bug_repo_matches_cache.json\"\n",
    "\n",
    "# Load cache if it exists\n",
    "if os.path.exists(CACHE_FILE):\n",
    "    with open(CACHE_FILE, \"r\") as cache_file:\n",
    "        cached_data = json.load(cache_file)\n",
    "    repo_file_matches = defaultdict(list, cached_data)\n",
    "    print(f\"Read cached results from {len(repo_file_matches)} bugs\")\n",
    "else:\n",
    "    repo_file_matches = defaultdict(list)\n",
    "\n",
    "with ThreadPoolExecutor() as executor:\n",
    "    bugs_with_matches = list(filter(lambda e: e not in repo_file_matches, bugs_with_sources))\n",
    "    futures = {executor.submit(exec, bug): bug for bug in bugs_with_matches}\n",
    "    for future in tqdm(as_completed(futures), total=len(bugs_with_matches), desc=\"Search for bug solution instances in repositories\"):\n",
    "        future.result()\n",
    "\n",
    "with open(CACHE_FILE, \"w\") as cache_file:\n",
    "    json.dump(repo_file_matches, cache_file)"
   ]
  },
  {
   "cell_type": "code",
   "execution_count": 14,
   "metadata": {},
   "outputs": [],
   "source": [
    "benchtags = [\"humaneval-java\", \"defects4j\", \"gitbug-java\"]\n",
    "bugall = []\n",
    "bugsources = []\n",
    "bugmatches = []\n",
    "\n",
    "for bug in all_bugs:\n",
    "    for benchtag in benchtags:\n",
    "        bugall.append(list(filter(lambda e: benchtag in e, all_bugs)))\n",
    "        bugsources.append(list(filter(lambda e: benchtag in e, bugs_with_sources)))\n",
    "        bugmatches.append(list(filter(lambda e: benchtag in e, bugs_with_matches)))\n",
    "\n"
   ]
  },
  {
   "cell_type": "code",
   "execution_count": 16,
   "metadata": {},
   "outputs": [
    {
     "data": {
      "application/vnd.microsoft.datawrangler.viewer.v0+json": {
       "columns": [
        {
         "name": "index",
         "rawType": "int64",
         "type": "integer"
        },
        {
         "name": "benchmark",
         "rawType": "object",
         "type": "string"
        },
        {
         "name": "all_bugs",
         "rawType": "int64",
         "type": "integer"
        },
        {
         "name": "bugs_with_sources",
         "rawType": "int64",
         "type": "integer"
        },
        {
         "name": "% sources",
         "rawType": "float64",
         "type": "float"
        },
        {
         "name": "bugs_with_matches",
         "rawType": "int64",
         "type": "integer"
        },
        {
         "name": "% matches",
         "rawType": "float64",
         "type": "float"
        }
       ],
       "conversionMethod": "pd.DataFrame",
       "ref": "f007a1d5-860a-4f4a-857f-cef4a018e68a",
       "rows": [
        [
         "0",
         "humaneval-java",
         "163",
         "24",
         "14.723926380368098",
         "6",
         "3.6809815950920246"
        ],
        [
         "1",
         "defects4j",
         "835",
         "120",
         "14.37125748502994",
         "33",
         "3.9520958083832336"
        ],
        [
         "2",
         "gitbug-java",
         "199",
         "26",
         "13.06532663316583",
         "11",
         "5.527638190954774"
        ]
       ],
       "shape": {
        "columns": 6,
        "rows": 3
       }
      },
      "text/html": [
       "<div>\n",
       "<style scoped>\n",
       "    .dataframe tbody tr th:only-of-type {\n",
       "        vertical-align: middle;\n",
       "    }\n",
       "\n",
       "    .dataframe tbody tr th {\n",
       "        vertical-align: top;\n",
       "    }\n",
       "\n",
       "    .dataframe thead th {\n",
       "        text-align: right;\n",
       "    }\n",
       "</style>\n",
       "<table border=\"1\" class=\"dataframe\">\n",
       "  <thead>\n",
       "    <tr style=\"text-align: right;\">\n",
       "      <th></th>\n",
       "      <th>benchmark</th>\n",
       "      <th>all_bugs</th>\n",
       "      <th>bugs_with_sources</th>\n",
       "      <th>% sources</th>\n",
       "      <th>bugs_with_matches</th>\n",
       "      <th>% matches</th>\n",
       "    </tr>\n",
       "  </thead>\n",
       "  <tbody>\n",
       "    <tr>\n",
       "      <th>0</th>\n",
       "      <td>humaneval-java</td>\n",
       "      <td>163</td>\n",
       "      <td>24</td>\n",
       "      <td>14.723926</td>\n",
       "      <td>6</td>\n",
       "      <td>3.680982</td>\n",
       "    </tr>\n",
       "    <tr>\n",
       "      <th>1</th>\n",
       "      <td>defects4j</td>\n",
       "      <td>835</td>\n",
       "      <td>120</td>\n",
       "      <td>14.371257</td>\n",
       "      <td>33</td>\n",
       "      <td>3.952096</td>\n",
       "    </tr>\n",
       "    <tr>\n",
       "      <th>2</th>\n",
       "      <td>gitbug-java</td>\n",
       "      <td>199</td>\n",
       "      <td>26</td>\n",
       "      <td>13.065327</td>\n",
       "      <td>11</td>\n",
       "      <td>5.527638</td>\n",
       "    </tr>\n",
       "  </tbody>\n",
       "</table>\n",
       "</div>"
      ],
      "text/plain": [
       "        benchmark  all_bugs  bugs_with_sources  % sources  bugs_with_matches  \\\n",
       "0  humaneval-java       163                 24  14.723926                  6   \n",
       "1       defects4j       835                120  14.371257                 33   \n",
       "2     gitbug-java       199                 26  13.065327                 11   \n",
       "\n",
       "   % matches  \n",
       "0   3.680982  \n",
       "1   3.952096  \n",
       "2   5.527638  "
      ]
     },
     "execution_count": 16,
     "metadata": {},
     "output_type": "execute_result"
    }
   ],
   "source": [
    "import pandas as pd\n",
    "\n",
    "dfdata = []\n",
    "for i, benchtag in enumerate(benchtags):\n",
    "    dfdata.append({\n",
    "        \"benchmark\": benchtag,\n",
    "        \"all_bugs\": len(bugall[i]),\n",
    "        \"bugs_with_sources\": len(bugsources[i]),\n",
    "        \"% sources\": 100 * len(bugsources[i]) / len(bugall[i]),\n",
    "        \"bugs_with_matches\": len(bugmatches[i]),\n",
    "        \"% matches\": 100 * len(bugmatches[i]) / len(bugall[i]),\n",
    "    })\n",
    "\n",
    "pd.DataFrame(dfdata)"
   ]
  },
  {
   "cell_type": "code",
   "execution_count": 19,
   "metadata": {},
   "outputs": [
    {
     "name": "stdout",
     "output_type": "stream",
     "text": [
      "\\begin{tabular}{llrrrrr}\n",
      " & benchmark & all_bugs & bugs_with_sources & % sources & bugs_with_matches & % matches \\\\\n",
      "0 & humaneval-java & 163 & 24 & 14.723926 & 6 & 3.680982 \\\\\n",
      "1 & defects4j & 835 & 120 & 14.371257 & 33 & 3.952096 \\\\\n",
      "2 & gitbug-java & 199 & 26 & 13.065327 & 11 & 5.527638 \\\\\n",
      "\\end{tabular}\n",
      "\n"
     ]
    }
   ],
   "source": [
    "print(pd.DataFrame(dfdata).style.to_latex())"
   ]
  },
  {
   "cell_type": "code",
   "execution_count": 12,
   "metadata": {},
   "outputs": [
    {
     "data": {
      "image/png": "[encoded data removed]",
      "text/plain": [
       "<Figure size 640x480 with 1 Axes>"
      ]
     },
     "metadata": {},
     "output_type": "display_data"
    },
    {
     "data": {
      "image/png": "[encoded data removed]",
      "text/plain": [
       "<Figure size 640x480 with 1 Axes>"
      ]
     },
     "metadata": {},
     "output_type": "display_data"
    }
   ],
   "source": [
    "# Group bugs into a single aggregate benchmark of flagged and non-flagged bugs\n",
    "from functools import reduce\n",
    "import matplotlib.pyplot as plt\n",
    "from collections import Counter\n",
    "from typing import List, Tuple\n",
    "import numpy as np\n",
    "\n",
    "\n",
    "bugs_all_set = set(all_bugs)\n",
    "bugs_exact_match_set = set(repo_file_matches.keys())\n",
    "\n",
    "# Get CDD score from bugs in each bucket\n",
    "\n",
    "CDD_DATA_CACHE = \"cdd-data-cache.json\"\n",
    "\n",
    "with open(CDD_DATA_CACHE, \"r\") as f:\n",
    "    data: dict = json.loads(f.read())\n",
    "\n",
    "gemini_match_dists = []\n",
    "gemini_no_match_dists = []\n",
    "for k, v in data.items():\n",
    "    if k in bugs_exact_match_set:\n",
    "        gemini_match_dists.append(v)\n",
    "    else:\n",
    "        gemini_no_match_dists.append(v)\n",
    "\n",
    "d_full = filter(None, gemini_match_dists)  # Remove None values\n",
    "d_full = reduce(lambda x, y: x + y, d_full)  # Flatten the list\n",
    "d_full = list(d_full)\n",
    "total = sum(d_full)\n",
    "count = Counter(d_full)\n",
    "x, y = zip(*sorted(count.items(), key=lambda x: x[0]))\n",
    "y = [c / total for c in y]\n",
    "plt.plot(x, y, label=\"Has gemini matches\")\n",
    "\n",
    "d_full = filter(None, gemini_no_match_dists)  # Remove None values\n",
    "d_full = reduce(lambda x, y: x + y, d_full)  # Flatten the list\n",
    "d_full = list(d_full)\n",
    "total = sum(d_full)\n",
    "count = Counter(d_full)\n",
    "x, y = zip(*sorted(count.items(), key=lambda x: x[0]))\n",
    "y = [c / total for c in y]\n",
    "plt.plot(x, y, label=\"No gemini matches\")\n",
    "\n",
    "plt.xlabel(\"Edit distance\")\n",
    "plt.ylabel(\"Density\")\n",
    "plt.legend()\n",
    "\n",
    "plt.show()\n",
    "\n",
    "# Bar chart\n",
    "\n",
    "identifiers = [\"Has gemini matches\", \"No gemini matches\"]\n",
    "index = np.arange(len(identifiers))  # The label locations\n",
    "\n",
    "zero_distance_ratios = []\n",
    "non_zero_distance_ratios = []\n",
    "\n",
    "# for i, dists in enumerate(dists_list):\n",
    "#     d_full = filter(None, dists)  # Remove None values\n",
    "#     d_full = reduce(lambda x, y: x + y, d_full)  # Flatten the list\n",
    "#     d_full = list(d_full)\n",
    "#     count = Counter(d_full)\n",
    "    \n",
    "#     zero_distance = count.get(0, 0)\n",
    "#     total_samples = sum(count.values())\n",
    "    \n",
    "#     zero_distance_ratio = zero_distance / total_samples\n",
    "#     non_zero_distance_ratio = 1 - zero_distance_ratio\n",
    "    \n",
    "#     zero_distance_ratios.append(zero_distance_ratio)\n",
    "#     non_zero_distance_ratios.append(non_zero_distance_ratio)\n",
    "\n",
    "# Has gemeni matches\n",
    "\n",
    "d_full = filter(None, gemini_match_dists)  # Remove None values\n",
    "d_full = reduce(lambda x, y: x + y, d_full)  # Flatten the list\n",
    "d_full = list(d_full)\n",
    "count = Counter(d_full)\n",
    "\n",
    "zero_distance = count.get(0, 0)\n",
    "total_samples = sum(count.values())\n",
    "\n",
    "zero_distance_ratio = zero_distance / total_samples\n",
    "non_zero_distance_ratio = 1 - zero_distance_ratio\n",
    "\n",
    "zero_distance_ratios.append(zero_distance_ratio)\n",
    "non_zero_distance_ratios.append(non_zero_distance_ratio)\n",
    "\n",
    "# No gemeni matches\n",
    "\n",
    "d_full = filter(None, gemini_no_match_dists)  # Remove None values\n",
    "d_full = reduce(lambda x, y: x + y, d_full)  # Flatten the list\n",
    "d_full = list(d_full)\n",
    "count = Counter(d_full)\n",
    "\n",
    "zero_distance = count.get(0, 0)\n",
    "total_samples = sum(count.values())\n",
    "\n",
    "zero_distance_ratio = zero_distance / total_samples\n",
    "non_zero_distance_ratio = 1 - zero_distance_ratio\n",
    "\n",
    "zero_distance_ratios.append(zero_distance_ratio)\n",
    "non_zero_distance_ratios.append(non_zero_distance_ratio)\n",
    "\n",
    "# Plot\n",
    "\n",
    "fig, ax = plt.subplots()\n",
    "bar_width = 0.35\n",
    "\n",
    "p1 = ax.bar(index, zero_distance_ratios, bar_width, label='Zero Distance Ratio')\n",
    "p2 = ax.bar(index, non_zero_distance_ratios, bar_width, bottom=zero_distance_ratios, label='Non-Zero Distance Ratio')\n",
    "\n",
    "ax.set_xlabel('Dataset')\n",
    "ax.set_ylabel('Ratio')\n",
    "ax.set_title('Prevalence of Zero and Non-Zero Distance Samples')\n",
    "ax.set_xticks(index)\n",
    "ax.set_xticklabels(identifiers)\n",
    "ax.legend()\n",
    "\n",
    "plt.show()\n"
   ]
  },
  {
   "cell_type": "code",
   "execution_count": 13,
   "metadata": {},
   "outputs": [
    {
     "data": {
      "text/plain": [
       "87"
      ]
     },
     "execution_count": 13,
     "metadata": {},
     "output_type": "execute_result"
    }
   ],
   "source": [
    "len([e for e in list(filter(lambda e: \"defects4j\" in e, repo_file_matches.keys())) if e in bugs_exact_match_set])"
   ]
  }
 ],
 "metadata": {
  "kernelspec": {
   "display_name": "elleelleaime-Ymc4Ofxq-py3.10",
   "language": "python",
   "name": "python3"
  },
  "language_info": {
   "codemirror_mode": {
    "name": "ipython",
    "version": 3
   },
   "file_extension": ".py",
   "mimetype": "text/x-python",
   "name": "python",
   "nbconvert_exporter": "python",
   "pygments_lexer": "ipython3",
   "version": "3.10.13"
  }
 },
 "nbformat": 4,
 "nbformat_minor": 2
}
