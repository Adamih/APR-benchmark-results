{
 "cells": [
  {
   "cell_type": "code",
   "execution_count": null,
   "metadata": {},
   "outputs": [],
   "source": [
    "import json\n",
    "from typing import List\n",
    "# TODO: Add pathlib, p.glob('**/*') to get all files in a folder\n",
    "\n",
    "\n",
    "# file_path = \"\"\n",
    "# file_path = \"data/humaneval-java/candidates_HumanEvalJava_sigonly-instruct_google_model_name=gemini-1.5-flash_max_length=4096_generation_strategy=beam_search_num_return_sequences=1.jsonl\"\n",
    "file_path = \"data/defects4j/candidates_Defects4J_sigonly-instruct_google_model_name=gemini-1.5-flash_max_length=4096_generation_strategy=beam_search_num_return_sequences=1.jsonl\"\n",
    "\n",
    "def read_jsonl(file_path) -> List[dict]:\n",
    "    with open(file_path, 'r') as f:\n",
    "        lines = f.readlines()\n",
    "    return [json.loads(line) for line in lines]\n",
    "\n",
    "import os\n",
    "import subprocess\n",
    "\n",
    "def is_github_url(url: str) -> bool:\n",
    "    return \"github.com\" in url\n",
    "\n",
    "def git_clone(url: str, folder: str) -> bool:\n",
    "    res = subprocess.run([\"git\", \"clone\", url, folder, \"--quiet\"], stdout=subprocess.DEVNULL, stderr=subprocess.DEVNULL)\n",
    "    return res.returncode == 0\n",
    "\n",
    "def search_string_in_files(folder_path, search_string):\n",
    "    \"\"\"\n",
    "    Recursively searches for a string in all files within a folder and its subfolders.\n",
    "\n",
    "    Args:\n",
    "        folder_path (str): The path to the folder to search in.\n",
    "        search_string (str): The string to search for.\n",
    "\n",
    "    Returns:\n",
    "        list: A list of file paths containing the search string.\n",
    "    \"\"\"\n",
    "    matching_files = []\n",
    "    for root, _, files in os.walk(folder_path):\n",
    "        for file in files:\n",
    "            file_path = os.path.join(root, file)\n",
    "            try:\n",
    "                with open(file_path, 'r', encoding='utf-8', errors='ignore') as f:\n",
    "                    if search_string in f.read():\n",
    "                        matching_files.append(file_path)\n",
    "            except Exception as e:\n",
    "                print(f\"Error reading {file_path}: {e}\")\n",
    "    return matching_files\n"
   ]
  },
  {
   "cell_type": "code",
   "execution_count": null,
   "metadata": {},
   "outputs": [
    {
     "data": {
      "application/vnd.jupyter.widget-view+json": {
       "model_id": "707b0c9f244c4cfe999e40d18aea296f",
       "version_major": 2,
       "version_minor": 0
      },
      "text/plain": [
       "Processing data:   0%|          | 0/835 [00:00<?, ?it/s]"
      ]
     },
     "metadata": {},
     "output_type": "display_data"
    }
   ],
   "source": [
    "from tqdm.notebook import tqdm\n",
    "\n",
    "data = read_jsonl(file_path)\n",
    "label_set = set()\n",
    "uri_map = {}\n",
    "labels = []\n",
    "for d in tqdm(data, desc=\"Processing data\"):\n",
    "    if not d.get(\"generation\", None):\n",
    "        continue\n",
    "    candidates = d[\"generation\"][0][\"candidates\"][0]\n",
    "    if not \"citation_metadata\" in candidates:\n",
    "        continue\n",
    "    sources = candidates[\"citation_metadata\"][\"citation_sources\"]\n",
    "    for source in sources:\n",
    "        if not \"uri\" in source:\n",
    "            continue\n",
    "        uri: str = source[\"uri\"]\n",
    "        if not is_github_url(uri):\n",
    "            continue\n",
    "        label = uri.removeprefix(\"https://github.com/\")\n",
    "        label = label.removesuffix(\".git\")\n",
    "        label = label.replace(\"/\", \"_\")\n",
    "        if label in label_set:\n",
    "            continue\n",
    "        label_set.add(label)\n",
    "        labels.append(label)\n",
    "        uri_map[label] = uri\n"
   ]
  },
  {
   "cell_type": "code",
   "execution_count": 3,
   "metadata": {},
   "outputs": [
    {
     "data": {
      "application/vnd.jupyter.widget-view+json": {
       "model_id": "4b6c51be38c6426a87ada5ee1455f6e5",
       "version_major": 2,
       "version_minor": 0
      },
      "text/plain": [
       "  0%|          | 0/159 [00:00<?, ?it/s]"
      ]
     },
     "metadata": {},
     "output_type": "display_data"
    },
    {
     "name": "stdout",
     "output_type": "stream",
     "text": [
      "Error reading tmprepo/syndesisio_syndesis/doc/developing_extensions/images/customizing: [Errno 2] No such file or directory: 'tmprepo/syndesisio_syndesis/doc/developing_extensions/images/customizing'\n",
      "Error reading tmprepo/syndesisio_syndesis/doc/customizing/images/customizing: [Errno 2] No such file or directory: 'tmprepo/syndesisio_syndesis/doc/customizing/images/customizing'\n",
      "Error reading tmprepo/syndesisio_syndesis/app/ui-react/docker/build: [Errno 2] No such file or directory: 'tmprepo/syndesisio_syndesis/app/ui-react/docker/build'\n",
      "Error reading tmprepo/syndesisio_syndesis/doc/developing_extensions/images/customizing: [Errno 2] No such file or directory: 'tmprepo/syndesisio_syndesis/doc/developing_extensions/images/customizing'\n",
      "Error reading tmprepo/syndesisio_syndesis/doc/customizing/images/customizing: [Errno 2] No such file or directory: 'tmprepo/syndesisio_syndesis/doc/customizing/images/customizing'\n",
      "Error reading tmprepo/syndesisio_syndesis/app/ui-react/docker/build: [Errno 2] No such file or directory: 'tmprepo/syndesisio_syndesis/app/ui-react/docker/build'\n",
      "Error reading tmprepo/ultimate-pa_ultimate/trunk/examples/Automata/AUTOMATA_SCRIPT: [Errno 2] No such file or directory: 'tmprepo/ultimate-pa_ultimate/trunk/examples/Automata/AUTOMATA_SCRIPT'\n",
      "Error reading tmprepo/jtviegas_codepit/assorted/python-slack-bot/starterbot/local/include: [Errno 2] No such file or directory: 'tmprepo/jtviegas_codepit/assorted/python-slack-bot/starterbot/local/include'\n",
      "Error reading tmprepo/jtviegas_codepit/assorted/python-slack-bot/starterbot/local/lib: [Errno 2] No such file or directory: 'tmprepo/jtviegas_codepit/assorted/python-slack-bot/starterbot/local/lib'\n",
      "Error reading tmprepo/jtviegas_codepit/assorted/python-slack-bot/starterbot/local/bin: [Errno 2] No such file or directory: 'tmprepo/jtviegas_codepit/assorted/python-slack-bot/starterbot/local/bin'\n",
      "Error reading tmprepo/ultimate-pa_ultimate/trunk/examples/Automata/AUTOMATA_SCRIPT: [Errno 2] No such file or directory: 'tmprepo/ultimate-pa_ultimate/trunk/examples/Automata/AUTOMATA_SCRIPT'\n",
      "Error reading tmprepo/jtviegas_codepit/assorted/python-slack-bot/starterbot/local/include: [Errno 2] No such file or directory: 'tmprepo/jtviegas_codepit/assorted/python-slack-bot/starterbot/local/include'\n",
      "Error reading tmprepo/jtviegas_codepit/assorted/python-slack-bot/starterbot/local/lib: [Errno 2] No such file or directory: 'tmprepo/jtviegas_codepit/assorted/python-slack-bot/starterbot/local/lib'\n",
      "Error reading tmprepo/jtviegas_codepit/assorted/python-slack-bot/starterbot/local/bin: [Errno 2] No such file or directory: 'tmprepo/jtviegas_codepit/assorted/python-slack-bot/starterbot/local/bin'\n"
     ]
    },
    {
     "data": {
      "text/plain": [
       "{}"
      ]
     },
     "execution_count": 3,
     "metadata": {},
     "output_type": "execute_result"
    }
   ],
   "source": [
    "import shutil\n",
    "from tqdm.notebook import tqdm\n",
    "import os\n",
    "from concurrent.futures import ThreadPoolExecutor, as_completed\n",
    "\n",
    "\n",
    "repo_file_matches = {}\n",
    "tmp_dir = \"tmprepo\"\n",
    "\n",
    "def exec(label):\n",
    "    uri = uri_map[label]\n",
    "    tmp_repo_path = os.path.join(tmp_dir, label)\n",
    "    # # Check if repo already exists and is a valid repo\n",
    "    # if not os.path.exists(tmp_repo_path):        \n",
    "    #     # Clone repository\n",
    "    #     success = git_clone(uri, tmp_repo_path)\n",
    "    #     if not success:\n",
    "    #         return\n",
    "\n",
    "    # Check for string in tmp_path\n",
    "    if not os.path.exists(tmp_repo_path):\n",
    "        return\n",
    "\n",
    "    intersection_buggy_str = \"    public static String intersection(int[] interval1, int[] interval2) {\\n        int l = Math.min(interval1[0], interval2[0]);\\n        int r = Math.max(interval1[1], interval2[1]);\\n        int length = r - l;\\n        if(length > 0 && is_prime(length)) return \\\"YES\\\";\\n        return \\\"NO\\\";\\n    }\\n\"\n",
    "    intersection_matching_files = search_string_in_files(tmp_repo_path, intersection_buggy_str)\n",
    "    decodeshift_buggy_str = \"    public static String decode_shift(String string) {\\n        StringBuilder sb = new StringBuilder();\\n        for (char c : string.toCharArray()) {\\n            c = (char)((((int) c - 5 - (int)('a')) % 26) + (int)('a'));\\n            sb.append(c);\\n        }\\n        return sb.toString();\\n    }\\n\"\n",
    "    decodeshift_matching_files = search_string_in_files(tmp_repo_path, decodeshift_buggy_str)\n",
    "    if intersection_matching_files and decodeshift_matching_files:\n",
    "        repo_file_matches[label] = intersection_matching_files + decodeshift_matching_files\n",
    "\n",
    "with ThreadPoolExecutor() as executor:\n",
    "\n",
    "    futures = {executor.submit(exec, label): label for label in labels}\n",
    "\n",
    "    for future in tqdm(as_completed(futures), total=len(labels)):\n",
    "        future.result()\n",
    "        \n",
    "\n",
    "repo_file_matches"
   ]
  }
 ],
 "metadata": {
  "kernelspec": {
   "display_name": "elleelleaime-Ymc4Ofxq-py3.10",
   "language": "python",
   "name": "python3"
  },
  "language_info": {
   "codemirror_mode": {
    "name": "ipython",
    "version": 3
   },
   "file_extension": ".py",
   "mimetype": "text/x-python",
   "name": "python",
   "nbconvert_exporter": "python",
   "pygments_lexer": "ipython3",
   "version": "3.10.13"
  }
 },
 "nbformat": 4,
 "nbformat_minor": 2
}
