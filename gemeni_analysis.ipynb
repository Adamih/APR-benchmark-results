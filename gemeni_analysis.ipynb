{
 "cells": [
  {
   "cell_type": "code",
   "execution_count": 2,
   "metadata": {},
   "outputs": [],
   "source": [
    "import json\n",
    "from typing import List\n",
    "# TODO: Add pathlib, p.glob('**/*') to get all files in a folder\n",
    "import os\n",
    "import subprocess\n",
    "from pathlib import Path\n",
    "from tqdm.notebook import tqdm\n",
    "from collections import defaultdict\n",
    "\n",
    "tmp_dir = \"tmprepo\"\n",
    "\n",
    "def read_jsonl(file_path) -> List[dict]:\n",
    "    with open(file_path, 'r') as f:\n",
    "        lines = f.readlines()\n",
    "    return [json.loads(line) for line in lines]\n",
    "\n",
    "def is_github_url(url: str) -> bool:\n",
    "    return \"github.com\" in url\n",
    "\n",
    "def git_clone(url: str, folder: str) -> bool:\n",
    "    res = subprocess.run([\"git\", \"clone\", url, folder, \"--quiet\"], stdout=subprocess.DEVNULL, stderr=subprocess.DEVNULL)\n",
    "    return res.returncode == 0\n",
    "\n",
    "def search_string_in_files(folder_path, search_string):\n",
    "    \"\"\"\n",
    "    Recursively searches for a string in all files within a folder and its subfolders.\n",
    "\n",
    "    Args:\n",
    "        folder_path (str): The path to the folder to search in.\n",
    "        search_string (str): The string to search for.\n",
    "\n",
    "    Returns:\n",
    "        list: A list of file paths containing the search string.\n",
    "    \"\"\"\n",
    "    matching_files = []\n",
    "    files = Path(folder_path).rglob('*.java')\n",
    "    for file in files:\n",
    "        if file.is_dir():\n",
    "            continue\n",
    "        # # path contains\n",
    "        if any(p in [\".git\", \"dists\", \"resource\", \"com\"] for p in file.parts):\n",
    "            continue\n",
    "        try:\n",
    "            with open(file_path, 'r', encoding='utf-8', errors='ignore') as f:\n",
    "                if search_string in f.read():\n",
    "                    matching_files.append(file_path)\n",
    "        except Exception as e:\n",
    "            print(f\"Error reading {file_path}: {e}\")\n",
    "    return matching_files\n",
    "\n",
    "def exec(bug: str):\n",
    "    bug_str = bug_str_map[bug]\n",
    "    uris = bug_uri_map[bug]\n",
    "    for uri in uris:\n",
    "        label = uri_map[uri]\n",
    "        tmp_repo_path = os.path.join(tmp_dir, label)\n",
    "        # # Check if repo already exists and is a valid repo\n",
    "        # if not os.path.exists(tmp_repo_path):\n",
    "        #     # Clone repository\n",
    "        #     success = git_clone(uri, tmp_repo_path)\n",
    "        #     if not success:\n",
    "        #         return\n",
    "\n",
    "        # Check for string in tmp_path\n",
    "        if not os.path.exists(tmp_repo_path):\n",
    "            return\n",
    "\n",
    "        matching_files = search_string_in_files(tmp_repo_path, bug_str)\n",
    "        if not matching_files:\n",
    "            continue\n",
    "        repo_file_matches[label].append(bug)\n"
   ]
  },
  {
   "cell_type": "code",
   "execution_count": 3,
   "metadata": {},
   "outputs": [
    {
     "data": {
      "application/vnd.jupyter.widget-view+json": {
       "model_id": "fc2e640c3521474abb36ccc35dd1f944",
       "version_major": 2,
       "version_minor": 0
      },
      "text/plain": [
       "Processing data:   0%|          | 0/835 [00:00<?, ?it/s]"
      ]
     },
     "metadata": {},
     "output_type": "display_data"
    }
   ],
   "source": [
    "# file_path = \"\"\n",
    "# file_path = \"data/humaneval-java/candidates_HumanEvalJava_sigonly-instruct_google_model_name=gemini-1.5-flash_max_length=4096_generation_strategy=beam_search_num_return_sequences=1.jsonl\"\n",
    "file_path = \"data/defects4j/candidates_Defects4J_sigonly-instruct_google_model_name=gemini-1.5-flash_max_length=4096_generation_strategy=beam_search_num_return_sequences=1.jsonl\"\n",
    "\n",
    "data = read_jsonl(file_path)\n",
    "uri_set = set()\n",
    "uri_map = {}\n",
    "bugs = []\n",
    "bug_uri_map = defaultdict(list)\n",
    "bug_str_map = {}\n",
    "for d in tqdm(data, desc=\"Processing data\"):\n",
    "    bug_id = d[\"identifier\"]\n",
    "    # skip bug if no generation\n",
    "    fixed_code = d[\"fixed_code\"]\n",
    "    if not fixed_code:\n",
    "        continue\n",
    "    bug_str_map[bug_id] = fixed_code\n",
    "\n",
    "    if not d.get(\"generation\", None):\n",
    "        continue\n",
    "    candidates = d[\"generation\"][0][\"candidates\"][0]\n",
    "    if not \"citation_metadata\" in candidates:\n",
    "        continue\n",
    "    sources = candidates[\"citation_metadata\"][\"citation_sources\"]\n",
    "    for source in sources:\n",
    "        if not \"uri\" in source:\n",
    "            continue\n",
    "        uri: str = source[\"uri\"]\n",
    "        if not is_github_url(uri):\n",
    "            continue\n",
    "        if uri in uri_set:\n",
    "            continue\n",
    "        uri_set.add(uri)\n",
    "        label = uri.removeprefix(\"https://github.com/\")\n",
    "        label = label.removesuffix(\".git\")\n",
    "        label = label.replace(\"/\", \"_\")\n",
    "        uri_map[uri] = label\n",
    "        bug_uri_map[bug_id].append(uri)\n",
    "    \n",
    "    if not bug_uri_map[bug_id]:\n",
    "        continue\n",
    "    bugs.append(bug_id)\n"
   ]
  },
  {
   "cell_type": "code",
   "execution_count": null,
   "metadata": {},
   "outputs": [
    {
     "name": "stdout",
     "output_type": "stream",
     "text": [
      "lx0704_Defects4J-Maven\n",
      "https://github.com/lx0704/Defects4J-Maven\n",
      "tmprepo/lx0704_Defects4J-Maven\n"
     ]
    }
   ],
   "source": [
    "from pathlib import Path\n",
    "\n",
    "tmp_dir = \"tmprepo\"\n",
    "\n",
    "label = labels[2]\n",
    "print(label)\n",
    "uri = uri_map[label]\n",
    "print(uri)\n",
    "tmp_repo_path = os.path.join(tmp_dir, label)\n",
    "print(tmp_repo_path)\n",
    "# Get all files in folder\n",
    "files = Path(tmp_repo_path).rglob('*.java')\n",
    "for file in files:\n",
    "    if file.is_dir():\n",
    "        continue\n",
    "    # # path contains\n",
    "    if any(p in [\".git\", \"dists\", \"com\"] for p in file.parts):\n",
    "        continue\n",
    "    # if file.name in [\".gitignore\", \".DS_Store\", \"LICENSE\"]:\n",
    "    #     continue\n",
    "    # if file.suffix in [\".png\", \".jpg\", \".md\", \".pdf\", \".xlsx\", \".mod\", \".xml\", \".conf\", \".html\", \".class\", \".sh\", \".pem\"]:\n",
    "    #     continue\n"
   ]
  },
  {
   "cell_type": "code",
   "execution_count": null,
   "metadata": {},
   "outputs": [
    {
     "data": {
      "application/vnd.jupyter.widget-view+json": {
       "model_id": "3cb2b461e39e4f888c2262dd7c324ff7",
       "version_major": 2,
       "version_minor": 0
      },
      "text/plain": [
       "  0%|          | 0/129 [00:00<?, ?it/s]"
      ]
     },
     "metadata": {},
     "output_type": "display_data"
    }
   ],
   "source": [
    "import shutil\n",
    "from tqdm.notebook import tqdm\n",
    "import os\n",
    "from concurrent.futures import ThreadPoolExecutor, as_completed\n",
    "\n",
    "repo_file_matches = defaultdict(list)\n",
    "\n",
    "with ThreadPoolExecutor() as executor:\n",
    "\n",
    "    futures = {executor.submit(exec, bug): bug for bug in bugs}\n",
    "\n",
    "    for future in tqdm(as_completed(futures), total=len(bugs)):\n",
    "        future.result()\n",
    "        \n",
    "\n",
    "repo_file_matches"
   ]
  }
 ],
 "metadata": {
  "kernelspec": {
   "display_name": "elleelleaime-Ymc4Ofxq-py3.10",
   "language": "python",
   "name": "python3"
  },
  "language_info": {
   "codemirror_mode": {
    "name": "ipython",
    "version": 3
   },
   "file_extension": ".py",
   "mimetype": "text/x-python",
   "name": "python",
   "nbconvert_exporter": "python",
   "pygments_lexer": "ipython3",
   "version": "3.10.13"
  }
 },
 "nbformat": 4,
 "nbformat_minor": 2
}
