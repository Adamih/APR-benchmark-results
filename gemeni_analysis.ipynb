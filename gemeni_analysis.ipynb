{
 "cells": [
  {
   "cell_type": "code",
   "execution_count": 28,
   "metadata": {},
   "outputs": [],
   "source": [
    "import json\n",
    "from typing import List\n",
    "# TODO: Add pathlib, p.glob('**/*') to get all files in a folder\n",
    "import os\n",
    "import subprocess\n",
    "from pathlib import Path\n",
    "from tqdm.notebook import tqdm\n",
    "from collections import defaultdict\n",
    "\n",
    "tmp_dir = \"tmprepo\"\n",
    "\n",
    "def read_jsonl(file_path) -> List[dict]:\n",
    "    with open(file_path, 'r') as f:\n",
    "        lines = f.readlines()\n",
    "    return [json.loads(line) for line in lines]\n",
    "\n",
    "def is_github_url(url: str) -> bool:\n",
    "    return \"github.com\" in url\n",
    "\n",
    "def git_clone(url: str, folder: str) -> bool:\n",
    "    res = subprocess.run([\"git\", \"clone\", url, folder, \"--quiet\"], stdout=subprocess.DEVNULL, stderr=subprocess.DEVNULL)\n",
    "    return res.returncode == 0\n",
    "\n",
    "def search_string_in_files(folder_path, search_string):\n",
    "    \"\"\"\n",
    "    Recursively searches for a string in all files within a folder and its subfolders.\n",
    "\n",
    "    Args:\n",
    "        folder_path (str): The path to the folder to search in.\n",
    "        search_string (str): The string to search for.\n",
    "\n",
    "    Returns:\n",
    "        list: A list of file paths containing the search string.\n",
    "    \"\"\"\n",
    "    matching_files = []\n",
    "    file_mathes = Path(folder_path).rglob('*.java')\n",
    "    for file_path in file_mathes:\n",
    "        if file_path.is_dir():\n",
    "            continue\n",
    "        # # path contains\n",
    "        if any(p in [\".git\", \"dists\", \"resource\", \"com\"] for p in file_path.parts):\n",
    "            continue\n",
    "        try:\n",
    "            with open(file_path, 'r', encoding='utf-8', errors='ignore') as f:\n",
    "                if search_string in f.read():\n",
    "                    matching_files.append(file_path)\n",
    "        except Exception as e:\n",
    "            print(f\"Error reading {file_path}: {e}\")\n",
    "    return matching_files\n",
    "\n",
    "def exec(bug: str):\n",
    "    bug_solution_str = bug_solution_str_map[bug]\n",
    "    uris = bug_uri_map[bug]\n",
    "    for uri in uris:\n",
    "        label = uri_tag_map[uri]\n",
    "        tmp_repo_path = os.path.join(tmp_dir, label)\n",
    "        # # Check if repo already exists and is a valid repo\n",
    "        # if not os.path.exists(tmp_repo_path):\n",
    "        #     # Clone repository\n",
    "        #     success = git_clone(uri, tmp_repo_path)\n",
    "        #     if not success:\n",
    "        #         return\n",
    "\n",
    "        # Check for string in tmp_path\n",
    "        if not os.path.exists(tmp_repo_path):\n",
    "            return\n",
    "\n",
    "        matching_files = search_string_in_files(tmp_repo_path, bug_solution_str)\n",
    "        if not matching_files:\n",
    "            continue\n",
    "        repo_file_matches[bug].append(label)\n"
   ]
  },
  {
   "cell_type": "code",
   "execution_count": 29,
   "metadata": {},
   "outputs": [
    {
     "data": {
      "application/vnd.jupyter.widget-view+json": {
       "model_id": "71fe57782f5c4202bf800879e6558ef2",
       "version_major": 2,
       "version_minor": 0
      },
      "text/plain": [
       "Generate bug and repo uri mappings:   0%|          | 0/835 [00:00<?, ?it/s]"
      ]
     },
     "metadata": {},
     "output_type": "display_data"
    }
   ],
   "source": [
    "# Generate mappings between bugs and repositories\n",
    "\n",
    "benchmarks = [\n",
    "    (\"defect4j\", \"data/defects4j/candidates_Defects4J_sigonly-instruct_google_model_name=gemini-1.5-flash_max_length=4096_generation_strategy=beam_search_num_return_sequences=1.jsonl\"),\n",
    "]\n",
    "\n",
    "uri_cache = set()\n",
    "uri_tag_map = {}  # repo_uri -> repo_tag\n",
    "bugs = []  # List of bug ids\n",
    "bug_uri_map = defaultdict(list)  # bug_id -> [repo_uri]\n",
    "bug_solution_str_map = {}  # bug_id -> fixed_bug_str\n",
    "for benchmark_label, path in benchmarks:\n",
    "    data = read_jsonl(path)\n",
    "    for d in tqdm(data, desc=\"Generate bug and repo uri mappings\"):\n",
    "        bug_id = f\"{benchmark_label}-{d['identifier']}\"\n",
    "        # Get bug to fix string mapping\n",
    "        fixed_code = d[\"fixed_code\"]\n",
    "        if not fixed_code:\n",
    "            continue\n",
    "        bug_solution_str_map[bug_id] = fixed_code\n",
    "\n",
    "        # Get github urls\n",
    "        generations = d.get(\"generation\", None)\n",
    "        if not generations:\n",
    "            continue\n",
    "        candidates = generations[0][\"candidates\"][0]\n",
    "        # If no matches, skip\n",
    "        if not \"citation_metadata\" in candidates:\n",
    "            continue\n",
    "        sources = candidates[\"citation_metadata\"][\"citation_sources\"]\n",
    "        # Go though sources\n",
    "        for source in sources:\n",
    "            # If source has no uri or is not a github url, skip\n",
    "            if not \"uri\" in source:\n",
    "                continue\n",
    "            uri: str = source[\"uri\"]\n",
    "            if not is_github_url(uri):\n",
    "                continue\n",
    "            if uri in uri_cache:\n",
    "                continue\n",
    "            uri_cache.add(uri)\n",
    "            # Create repo tag\n",
    "            repo_tag = uri.removeprefix(\"https://github.com/\")\n",
    "            repo_tag = repo_tag.removesuffix(\".git\")\n",
    "            repo_tag = repo_tag.replace(\"/\", \"_\")\n",
    "            uri_tag_map[uri] = repo_tag\n",
    "            # Add repo uri match to bug\n",
    "            bug_uri_map[bug_id].append(uri)\n",
    "        \n",
    "        # Add bug to list of bugs with repos to be scanned if there are any repos\n",
    "        if not bug_uri_map[bug_id]:\n",
    "            continue\n",
    "        bugs.append(bug_id)\n"
   ]
  },
  {
   "cell_type": "code",
   "execution_count": 22,
   "metadata": {},
   "outputs": [
    {
     "name": "stdout",
     "output_type": "stream",
     "text": [
      "defect4j-Mockito-28\n",
      "https://github.com/lx0704/Defects4J-Maven\n"
     ]
    },
    {
     "ename": "NameError",
     "evalue": "name 'label' is not defined",
     "output_type": "error",
     "traceback": [
      "\u001b[0;31m---------------------------------------------------------------------------\u001b[0m",
      "\u001b[0;31mNameError\u001b[0m                                 Traceback (most recent call last)",
      "Cell \u001b[0;32mIn[22], line 11\u001b[0m\n\u001b[1;32m      9\u001b[0m uri \u001b[38;5;241m=\u001b[39m bug_uri_map[bug][\u001b[38;5;241m0\u001b[39m]\n\u001b[1;32m     10\u001b[0m \u001b[38;5;28mprint\u001b[39m(uri)\n\u001b[0;32m---> 11\u001b[0m tmp_repo_path \u001b[38;5;241m=\u001b[39m os\u001b[38;5;241m.\u001b[39mpath\u001b[38;5;241m.\u001b[39mjoin(tmp_dir, \u001b[43mlabel\u001b[49m)\n\u001b[1;32m     12\u001b[0m \u001b[38;5;28mprint\u001b[39m(tmp_repo_path)\n\u001b[1;32m     13\u001b[0m \u001b[38;5;66;03m# Get all files in folder\u001b[39;00m\n",
      "\u001b[0;31mNameError\u001b[0m: name 'label' is not defined"
     ]
    }
   ],
   "source": [
    "# Execute scans on single repository\n",
    "\n",
    "from pathlib import Path\n",
    "\n",
    "tmp_dir = \"tmprepo\"\n",
    "\n",
    "label = uri_tags[2]\n",
    "print(label)\n",
    "uri = uri_map[label]\n",
    "print(uri)\n",
    "tmp_repo_path = os.path.join(tmp_dir, label)\n",
    "print(tmp_repo_path)\n",
    "# Get all files in folder\n",
    "files = Path(tmp_repo_path).rglob('*.java')\n",
    "for file in files:\n",
    "    if file.is_dir():\n",
    "        continue\n",
    "    # # path contains\n",
    "    if any(p in [\".git\", \"dists\", \"com\"] for p in file.parts):\n",
    "        continue\n",
    "    # if file.name in [\".gitignore\", \".DS_Store\", \"LICENSE\"]:\n",
    "    #     continue\n",
    "    # if file.suffix in [\".png\", \".jpg\", \".md\", \".pdf\", \".xlsx\", \".mod\", \".xml\", \".conf\", \".html\", \".class\", \".sh\", \".pem\"]:\n",
    "    #     continue\n"
   ]
  },
  {
   "cell_type": "code",
   "execution_count": 30,
   "metadata": {},
   "outputs": [
    {
     "data": {
      "application/vnd.jupyter.widget-view+json": {
       "model_id": "343d9e7811054b7ebe82dc5ae7f3d875",
       "version_major": 2,
       "version_minor": 0
      },
      "text/plain": [
       "  0%|          | 0/129 [00:00<?, ?it/s]"
      ]
     },
     "metadata": {},
     "output_type": "display_data"
    },
    {
     "data": {
      "text/plain": [
       "defaultdict(list,\n",
       "            {'TruX-DTF_FL-VS-APR': ['defect4j-Lang-5'],\n",
       "             'SpoonLabs_gumtree-spoon-ast-diff': ['defect4j-Lang-57'],\n",
       "             'GumTreeDiff_datasets': ['defect4j-JacksonDatabind-96'],\n",
       "             'ali-ghanbari_shibboleth-demo': ['defect4j-Time-25'],\n",
       "             'SpoonLabs_nopol-experiments': ['defect4j-Math-96'],\n",
       "             'SpoonLabs_coming': ['defect4j-Math-97'],\n",
       "             'easy-software-ufal_nimrod-hunor-subjects': ['defect4j-Codec-10'],\n",
       "             'OpenJML_OpenJML': ['defect4j-Math-17']})"
      ]
     },
     "execution_count": 30,
     "metadata": {},
     "output_type": "execute_result"
    }
   ],
   "source": [
    "# Execute search on repositories mapped to bugs\n",
    "\n",
    "import shutil\n",
    "from tqdm.notebook import tqdm\n",
    "import os\n",
    "from concurrent.futures import ThreadPoolExecutor, as_completed\n",
    "\n",
    "repo_file_matches = defaultdict(list)\n",
    "\n",
    "with ThreadPoolExecutor() as executor:\n",
    "\n",
    "    futures = {executor.submit(exec, bug): bug for bug in bugs}\n",
    "\n",
    "    for future in tqdm(as_completed(futures), total=len(bugs), desc=\"Search for bug solution instances in repositories\"):\n",
    "        future.result()\n",
    "\n",
    "\n",
    "repo_file_matches"
   ]
  },
  {
   "cell_type": "code",
   "execution_count": null,
   "metadata": {},
   "outputs": [],
   "source": [
    "# Group bugs into a single aggregate benchmark of flagged and non-flagged bugs"
   ]
  }
 ],
 "metadata": {
  "kernelspec": {
   "display_name": "elleelleaime-Ymc4Ofxq-py3.10",
   "language": "python",
   "name": "python3"
  },
  "language_info": {
   "codemirror_mode": {
    "name": "ipython",
    "version": 3
   },
   "file_extension": ".py",
   "mimetype": "text/x-python",
   "name": "python",
   "nbconvert_exporter": "python",
   "pygments_lexer": "ipython3",
   "version": "3.10.13"
  }
 },
 "nbformat": 4,
 "nbformat_minor": 2
}
