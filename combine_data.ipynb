{
 "cells": [
  {
   "cell_type": "code",
   "execution_count": 1,
   "metadata": {},
   "outputs": [],
   "source": [
    "import json\n",
    "from collections import defaultdict\n",
    "\n",
    "def read_jsonl_file(file):\n",
    "    with open(file, 'r') as f:\n",
    "        return [json.loads(line) for line in f]\n",
    "\n",
    "\n",
    "def get_bug_generations_fn(data):\n",
    "    return [row[\"generation\"] for row in data]\n",
    "\n",
    "file_path = \"data/defects4j/candidates_Defects4J_sigonly-instruct_codellama-instruct_model_name=meta-llama:CodeLlama-7b-Instruct-hf_max_length=4096_temperature=0.05_generation_strategy=sampling_num_return_sequences=10.jsonl\"\n",
    "\n",
    "first_data = read_jsonl_file(file_path.replace(\".jsonl\", f\"_1.jsonl\"))\n",
    "\n",
    "for file_i in [2,3,4,5]:\n",
    "    file_path_i = file_path.replace(\".jsonl\", f\"_{file_i}.jsonl\")\n",
    "    data = read_jsonl_file(file_path_i)\n",
    "    for i, gens in enumerate(get_bug_generations_fn(data)):\n",
    "        if not first_data[i][\"generation\"]:\n",
    "            continue\n",
    "        first_data[i][\"generation\"].extend(gens)\n",
    "\n",
    "first_data\n",
    "\n",
    "# Remove file if exists\n",
    "import os\n",
    "if os.path.exists(file_path.replace(\".jsonl\", \"_all.jsonl\")):\n",
    "    os.remove(file_path.replace(\".jsonl\", \"_all.jsonl\"))\n",
    "# Write list of dicts to .jsonl file\n",
    "with open(file_path.replace(\".jsonl\", \"_all.jsonl\"), 'w') as f:\n",
    "    for item in first_data:\n",
    "        f.write(json.dumps(item, sort_keys=True) + '\\n')\n"
   ]
  }
 ],
 "metadata": {
  "kernelspec": {
   "display_name": "elleelleaime-Ymc4Ofxq-py3.10",
   "language": "python",
   "name": "python3"
  },
  "language_info": {
   "codemirror_mode": {
    "name": "ipython",
    "version": 3
   },
   "file_extension": ".py",
   "mimetype": "text/x-python",
   "name": "python",
   "nbconvert_exporter": "python",
   "pygments_lexer": "ipython3",
   "version": "3.10.13"
  }
 },
 "nbformat": 4,
 "nbformat_minor": 2
}
