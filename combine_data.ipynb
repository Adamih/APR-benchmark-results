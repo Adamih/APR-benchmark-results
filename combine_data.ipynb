{
 "cells": [
  {
   "cell_type": "code",
   "execution_count": null,
   "metadata": {},
   "outputs": [
    {
     "ename": "AttributeError",
     "evalue": "'NoneType' object has no attribute 'extend'",
     "output_type": "error",
     "traceback": [
      "\u001b[0;31m---------------------------------------------------------------------------\u001b[0m",
      "\u001b[0;31mAttributeError\u001b[0m                            Traceback (most recent call last)",
      "Cell \u001b[0;32mIn[10], line 20\u001b[0m\n\u001b[1;32m     18\u001b[0m     data \u001b[38;5;241m=\u001b[39m read_jsonl_file(file_path_i)\n\u001b[1;32m     19\u001b[0m     \u001b[38;5;28;01mfor\u001b[39;00m i, gens \u001b[38;5;129;01min\u001b[39;00m \u001b[38;5;28menumerate\u001b[39m(get_bug_generations_fn(data)):\n\u001b[0;32m---> 20\u001b[0m         \u001b[43mfirst_data\u001b[49m\u001b[43m[\u001b[49m\u001b[43mi\u001b[49m\u001b[43m]\u001b[49m\u001b[43m[\u001b[49m\u001b[38;5;124;43m\"\u001b[39;49m\u001b[38;5;124;43mgeneration\u001b[39;49m\u001b[38;5;124;43m\"\u001b[39;49m\u001b[43m]\u001b[49m\u001b[38;5;241;43m.\u001b[39;49m\u001b[43mextend\u001b[49m(gens)\n\u001b[1;32m     22\u001b[0m first_data\n\u001b[1;32m     24\u001b[0m \u001b[38;5;66;03m# Remove file if exists\u001b[39;00m\n",
      "\u001b[0;31mAttributeError\u001b[0m: 'NoneType' object has no attribute 'extend'"
     ]
    }
   ],
   "source": [
    "import json\n",
    "from collections import defaultdict\n",
    "\n",
    "def read_jsonl_file(file):\n",
    "    with open(file, 'r') as f:\n",
    "        return [json.loads(line) for line in f]\n",
    "\n",
    "\n",
    "def get_bug_generations_fn(data):\n",
    "    return [row[\"generation\"] for row in data]\n",
    "\n",
    "file_path = \"data/gitbug-java/candidates_GitBugJava_sigonly-instruct_codellama-instruct_model_name=meta-llama:CodeLlama-7b-Instruct-hf_max_length=4096_temperature=0.8_generation_strategy=sampling_num_return_sequences=10.jsonl\"\n",
    "\n",
    "first_data = read_jsonl_file(file_path.replace(\".jsonl\", f\"_1.jsonl\"))\n",
    "\n",
    "for file_i in [2,3,4,5]:\n",
    "    file_path_i = file_path.replace(\".jsonl\", f\"_{file_i}.jsonl\")\n",
    "    data = read_jsonl_file(file_path_i)\n",
    "    for i, gens in enumerate(get_bug_generations_fn(data)):\n",
    "        if not first_data[i][\"generation\"]:\n",
    "            continue\n",
    "        first_data[i][\"generation\"].extend(gens)\n",
    "\n",
    "first_data\n",
    "\n",
    "# Remove file if exists\n",
    "import os\n",
    "if os.path.exists(file_path.replace(\".jsonl\", \"_all.jsonl\")):\n",
    "    os.remove(file_path.replace(\".jsonl\", \"_all.jsonl\"))\n",
    "# Write list of dicts to .jsonl file\n",
    "with open(file_path.replace(\".jsonl\", \"_all.jsonl\"), 'w') as f:\n",
    "    for item in first_data:\n",
    "        f.write(json.dumps(item, sort_keys=True) + '\\n')\n"
   ]
  }
 ],
 "metadata": {
  "kernelspec": {
   "display_name": "elleelleaime-Ymc4Ofxq-py3.10",
   "language": "python",
   "name": "python3"
  },
  "language_info": {
   "codemirror_mode": {
    "name": "ipython",
    "version": 3
   },
   "file_extension": ".py",
   "mimetype": "text/x-python",
   "name": "python",
   "nbconvert_exporter": "python",
   "pygments_lexer": "ipython3",
   "version": "3.10.13"
  }
 },
 "nbformat": 4,
 "nbformat_minor": 2
}
